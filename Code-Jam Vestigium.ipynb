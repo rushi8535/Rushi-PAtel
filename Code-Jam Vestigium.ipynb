{
 "cells": [
  {
   "cell_type": "code",
   "execution_count": 23,
   "metadata": {
    "scrolled": false
   },
   "outputs": [
    {
     "name": "stdout",
     "output_type": "stream",
     "text": [
      "1\n",
      "3\n",
      "1 2 1\n",
      "1 4 6\n",
      "7 8 9\n",
      "Case #1: 14 1 1\n"
     ]
    }
   ],
   "source": [
    "T = int(input())\n",
    "\n",
    "for t in range(T):\n",
    "    N = int(input())\n",
    "    M = []\n",
    "    for i in range(N):\n",
    "        l = list(map(int,input().split()))\n",
    "        M.append(l)\n",
    "    k=0\n",
    "    for i in range(N):\n",
    "        for j in range(N):\n",
    "            if i==j:\n",
    "                k = k + M[i][j]\n",
    "    r=0\n",
    "    for i in range(n):\n",
    "        for j in range(n):\n",
    "            if M[i].count(M[i][j])>1:\n",
    "                r=r+1\n",
    "                break\n",
    "\n",
    "    p = []\n",
    "    for i in range(N):\n",
    "        P = []\n",
    "        for j in range(N):\n",
    "            P.append(M[i][j])\n",
    "            p.append(P)\n",
    "  \n",
    "    c=0\n",
    "    for i in range(N):\n",
    "        for j in range(N):\n",
    "            if trans[i].count(p[i][j])>1:\n",
    "                c=c+1\n",
    "                break\n",
    "\n",
    "    z=\"#\"+str(t+1)+\":\"\n",
    "    print(\"Case\",z,k,r,c)\n"
   ]
  },
  {
   "cell_type": "code",
   "execution_count": null,
   "metadata": {},
   "outputs": [],
   "source": []
  }
 ],
 "metadata": {
  "kernelspec": {
   "display_name": "Python 3",
   "language": "python",
   "name": "python3"
  },
  "language_info": {
   "codemirror_mode": {
    "name": "ipython",
    "version": 3
   },
   "file_extension": ".py",
   "mimetype": "text/x-python",
   "name": "python",
   "nbconvert_exporter": "python",
   "pygments_lexer": "ipython3",
   "version": "3.7.4"
  }
 },
 "nbformat": 4,
 "nbformat_minor": 2
}

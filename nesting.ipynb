{
 "cells": [
  {
   "cell_type": "code",
   "execution_count": 2,
   "metadata": {},
   "outputs": [
    {
     "name": "stdout",
     "output_type": "stream",
     "text": [
      "1\n",
      "40001\n",
      "Case #1: ((((4))))000(1)\n"
     ]
    }
   ],
   "source": [
    "T = int(input())\n",
    "for t in range(T):\n",
    "    S = input()\n",
    "    l = len(S.encode('utf-8'))\n",
    "    ans = ''\n",
    "    n = 0\n",
    "    for i in range(l):\n",
    "        if(i==0):\n",
    "            for j in range(int(S[i])):\n",
    "                ans += '('\n",
    "                n = n+1\n",
    "            ans +=S[i]\n",
    "        else:\n",
    "            D = int(S[i-1])-int(S[i])\n",
    "            if(D == 0):\n",
    "                ans += S[i]\n",
    "            elif(D>0):\n",
    "                for j in range(D):\n",
    "                    ans+=')'\n",
    "                    n = n-1\n",
    "                ans +=S[i]\n",
    "            else:\n",
    "                for j in range(abs(D)):\n",
    "                    ans +='('\n",
    "                    n = n+1\n",
    "                ans +=S[i]\n",
    "    if(n>0):\n",
    "        for v in range(n):\n",
    "            ans +=')'\n",
    "    z=\"#\"+str(t+1)+\":\"      \n",
    "    print(\"Case\",z,ans)\n"
   ]
  },
  {
   "cell_type": "code",
   "execution_count": null,
   "metadata": {},
   "outputs": [],
   "source": []
  },
  {
   "cell_type": "code",
   "execution_count": null,
   "metadata": {},
   "outputs": [],
   "source": []
  }
 ],
 "metadata": {
  "kernelspec": {
   "display_name": "Python 3",
   "language": "python",
   "name": "python3"
  },
  "language_info": {
   "codemirror_mode": {
    "name": "ipython",
    "version": 3
   },
   "file_extension": ".py",
   "mimetype": "text/x-python",
   "name": "python",
   "nbconvert_exporter": "python",
   "pygments_lexer": "ipython3",
   "version": "3.7.4"
  }
 },
 "nbformat": 4,
 "nbformat_minor": 4
}
